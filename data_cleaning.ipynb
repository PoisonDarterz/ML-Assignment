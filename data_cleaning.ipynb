{
 "cells": [
  {
   "attachments": {},
   "cell_type": "markdown",
   "metadata": {},
   "source": [
    "## Data Cleaning for healthcare-data-stroke.csv\n",
    "This notebook cleans the data in `healthcare-data-stroke.csv` by removing duplicates, `NaN` values, re-scaling values of the data by normalization, and convert non-numerical data to numerical data for the ease of model training in future."
   ]
  },
  {
   "attachments": {},
   "cell_type": "markdown",
   "metadata": {},
   "source": [
    "### Import `pandas` library and read csv file. Also list out some basic informations about the dataset. Remove records that has `NaN` values."
   ]
  },
  {
   "cell_type": "code",
   "execution_count": 85,
   "metadata": {
    "ExecuteTime": {
     "start_time": "2023-05-01T21:51:18.424200Z",
     "end_time": "2023-05-01T21:51:18.491158Z"
    }
   },
   "outputs": [
    {
     "name": "stdout",
     "output_type": "stream",
     "text": [
      "Number of records in total: 5110\n",
      "Number of records that has NaN values: 201\n",
      "Number of records after removing NaN values: 4909\n"
     ]
    }
   ],
   "source": [
    "import pandas as pd\n",
    "df = pd.read_csv('/Users/wenghong/ML-Assignment/healthcare-dataset-stroke-data.csv')\n",
    "\n",
    "num_nan_rows = df.isna().sum(axis=1).astype(bool).sum()\n",
    "total_rows = df.shape[0]\n",
    "print('Number of records in total: {}\\nNumber of records that has NaN values: {}'.format(total_rows, num_nan_rows))\n",
    "\n",
    "# remove NaN values\n",
    "df = df.dropna()\n",
    "print('Number of records after removing NaN values: {}'.format(df.shape[0]))"
   ]
  },
  {
   "attachments": {},
   "cell_type": "markdown",
   "metadata": {},
   "source": [
    "### Give an overview of the dataset"
   ]
  },
  {
   "cell_type": "code",
   "execution_count": 86,
   "metadata": {
    "ExecuteTime": {
     "start_time": "2023-05-01T21:51:18.470501Z",
     "end_time": "2023-05-01T21:51:18.491969Z"
    }
   },
   "outputs": [
    {
     "data": {
      "text/plain": "       id  gender   age  hypertension  heart_disease ever_married  \\\n0    9046    Male  67.0             0              1          Yes   \n2   31112    Male  80.0             0              1          Yes   \n3   60182  Female  49.0             0              0          Yes   \n4    1665  Female  79.0             1              0          Yes   \n5   56669    Male  81.0             0              0          Yes   \n6   53882    Male  74.0             1              1          Yes   \n7   10434  Female  69.0             0              0           No   \n9   60491  Female  78.0             0              0          Yes   \n10  12109  Female  81.0             1              0          Yes   \n11  12095  Female  61.0             0              1          Yes   \n12  12175  Female  54.0             0              0          Yes   \n14   5317  Female  79.0             0              1          Yes   \n15  58202  Female  50.0             1              0          Yes   \n16  56112    Male  64.0             0              1          Yes   \n17  34120    Male  75.0             1              0          Yes   \n18  27458  Female  60.0             0              0           No   \n20  70630  Female  71.0             0              0          Yes   \n21  13861  Female  52.0             1              0          Yes   \n22  68794  Female  79.0             0              0          Yes   \n23  64778    Male  82.0             0              1          Yes   \n\n        work_type Residence_type  avg_glucose_level   bmi   smoking_status  \\\n0         Private          Urban             228.69  36.6  formerly smoked   \n2         Private          Rural             105.92  32.5     never smoked   \n3         Private          Urban             171.23  34.4           smokes   \n4   Self-employed          Rural             174.12  24.0     never smoked   \n5         Private          Urban             186.21  29.0  formerly smoked   \n6         Private          Rural              70.09  27.4     never smoked   \n7         Private          Urban              94.39  22.8     never smoked   \n9         Private          Urban              58.57  24.2          Unknown   \n10        Private          Rural              80.43  29.7     never smoked   \n11       Govt_job          Rural             120.46  36.8           smokes   \n12        Private          Urban             104.51  27.3           smokes   \n14        Private          Urban             214.09  28.2     never smoked   \n15  Self-employed          Rural             167.41  30.9     never smoked   \n16        Private          Urban             191.61  37.5           smokes   \n17        Private          Urban             221.29  25.8           smokes   \n18        Private          Urban              89.22  37.8     never smoked   \n20       Govt_job          Rural             193.94  22.4           smokes   \n21  Self-employed          Urban             233.29  48.9     never smoked   \n22  Self-employed          Urban             228.70  26.6     never smoked   \n23        Private          Rural             208.30  32.5          Unknown   \n\n    stroke  \n0        1  \n2        1  \n3        1  \n4        1  \n5        1  \n6        1  \n7        1  \n9        1  \n10       1  \n11       1  \n12       1  \n14       1  \n15       1  \n16       1  \n17       1  \n18       1  \n20       1  \n21       1  \n22       1  \n23       1  ",
      "text/html": "<div>\n<style scoped>\n    .dataframe tbody tr th:only-of-type {\n        vertical-align: middle;\n    }\n\n    .dataframe tbody tr th {\n        vertical-align: top;\n    }\n\n    .dataframe thead th {\n        text-align: right;\n    }\n</style>\n<table border=\"1\" class=\"dataframe\">\n  <thead>\n    <tr style=\"text-align: right;\">\n      <th></th>\n      <th>id</th>\n      <th>gender</th>\n      <th>age</th>\n      <th>hypertension</th>\n      <th>heart_disease</th>\n      <th>ever_married</th>\n      <th>work_type</th>\n      <th>Residence_type</th>\n      <th>avg_glucose_level</th>\n      <th>bmi</th>\n      <th>smoking_status</th>\n      <th>stroke</th>\n    </tr>\n  </thead>\n  <tbody>\n    <tr>\n      <th>0</th>\n      <td>9046</td>\n      <td>Male</td>\n      <td>67.0</td>\n      <td>0</td>\n      <td>1</td>\n      <td>Yes</td>\n      <td>Private</td>\n      <td>Urban</td>\n      <td>228.69</td>\n      <td>36.6</td>\n      <td>formerly smoked</td>\n      <td>1</td>\n    </tr>\n    <tr>\n      <th>2</th>\n      <td>31112</td>\n      <td>Male</td>\n      <td>80.0</td>\n      <td>0</td>\n      <td>1</td>\n      <td>Yes</td>\n      <td>Private</td>\n      <td>Rural</td>\n      <td>105.92</td>\n      <td>32.5</td>\n      <td>never smoked</td>\n      <td>1</td>\n    </tr>\n    <tr>\n      <th>3</th>\n      <td>60182</td>\n      <td>Female</td>\n      <td>49.0</td>\n      <td>0</td>\n      <td>0</td>\n      <td>Yes</td>\n      <td>Private</td>\n      <td>Urban</td>\n      <td>171.23</td>\n      <td>34.4</td>\n      <td>smokes</td>\n      <td>1</td>\n    </tr>\n    <tr>\n      <th>4</th>\n      <td>1665</td>\n      <td>Female</td>\n      <td>79.0</td>\n      <td>1</td>\n      <td>0</td>\n      <td>Yes</td>\n      <td>Self-employed</td>\n      <td>Rural</td>\n      <td>174.12</td>\n      <td>24.0</td>\n      <td>never smoked</td>\n      <td>1</td>\n    </tr>\n    <tr>\n      <th>5</th>\n      <td>56669</td>\n      <td>Male</td>\n      <td>81.0</td>\n      <td>0</td>\n      <td>0</td>\n      <td>Yes</td>\n      <td>Private</td>\n      <td>Urban</td>\n      <td>186.21</td>\n      <td>29.0</td>\n      <td>formerly smoked</td>\n      <td>1</td>\n    </tr>\n    <tr>\n      <th>6</th>\n      <td>53882</td>\n      <td>Male</td>\n      <td>74.0</td>\n      <td>1</td>\n      <td>1</td>\n      <td>Yes</td>\n      <td>Private</td>\n      <td>Rural</td>\n      <td>70.09</td>\n      <td>27.4</td>\n      <td>never smoked</td>\n      <td>1</td>\n    </tr>\n    <tr>\n      <th>7</th>\n      <td>10434</td>\n      <td>Female</td>\n      <td>69.0</td>\n      <td>0</td>\n      <td>0</td>\n      <td>No</td>\n      <td>Private</td>\n      <td>Urban</td>\n      <td>94.39</td>\n      <td>22.8</td>\n      <td>never smoked</td>\n      <td>1</td>\n    </tr>\n    <tr>\n      <th>9</th>\n      <td>60491</td>\n      <td>Female</td>\n      <td>78.0</td>\n      <td>0</td>\n      <td>0</td>\n      <td>Yes</td>\n      <td>Private</td>\n      <td>Urban</td>\n      <td>58.57</td>\n      <td>24.2</td>\n      <td>Unknown</td>\n      <td>1</td>\n    </tr>\n    <tr>\n      <th>10</th>\n      <td>12109</td>\n      <td>Female</td>\n      <td>81.0</td>\n      <td>1</td>\n      <td>0</td>\n      <td>Yes</td>\n      <td>Private</td>\n      <td>Rural</td>\n      <td>80.43</td>\n      <td>29.7</td>\n      <td>never smoked</td>\n      <td>1</td>\n    </tr>\n    <tr>\n      <th>11</th>\n      <td>12095</td>\n      <td>Female</td>\n      <td>61.0</td>\n      <td>0</td>\n      <td>1</td>\n      <td>Yes</td>\n      <td>Govt_job</td>\n      <td>Rural</td>\n      <td>120.46</td>\n      <td>36.8</td>\n      <td>smokes</td>\n      <td>1</td>\n    </tr>\n    <tr>\n      <th>12</th>\n      <td>12175</td>\n      <td>Female</td>\n      <td>54.0</td>\n      <td>0</td>\n      <td>0</td>\n      <td>Yes</td>\n      <td>Private</td>\n      <td>Urban</td>\n      <td>104.51</td>\n      <td>27.3</td>\n      <td>smokes</td>\n      <td>1</td>\n    </tr>\n    <tr>\n      <th>14</th>\n      <td>5317</td>\n      <td>Female</td>\n      <td>79.0</td>\n      <td>0</td>\n      <td>1</td>\n      <td>Yes</td>\n      <td>Private</td>\n      <td>Urban</td>\n      <td>214.09</td>\n      <td>28.2</td>\n      <td>never smoked</td>\n      <td>1</td>\n    </tr>\n    <tr>\n      <th>15</th>\n      <td>58202</td>\n      <td>Female</td>\n      <td>50.0</td>\n      <td>1</td>\n      <td>0</td>\n      <td>Yes</td>\n      <td>Self-employed</td>\n      <td>Rural</td>\n      <td>167.41</td>\n      <td>30.9</td>\n      <td>never smoked</td>\n      <td>1</td>\n    </tr>\n    <tr>\n      <th>16</th>\n      <td>56112</td>\n      <td>Male</td>\n      <td>64.0</td>\n      <td>0</td>\n      <td>1</td>\n      <td>Yes</td>\n      <td>Private</td>\n      <td>Urban</td>\n      <td>191.61</td>\n      <td>37.5</td>\n      <td>smokes</td>\n      <td>1</td>\n    </tr>\n    <tr>\n      <th>17</th>\n      <td>34120</td>\n      <td>Male</td>\n      <td>75.0</td>\n      <td>1</td>\n      <td>0</td>\n      <td>Yes</td>\n      <td>Private</td>\n      <td>Urban</td>\n      <td>221.29</td>\n      <td>25.8</td>\n      <td>smokes</td>\n      <td>1</td>\n    </tr>\n    <tr>\n      <th>18</th>\n      <td>27458</td>\n      <td>Female</td>\n      <td>60.0</td>\n      <td>0</td>\n      <td>0</td>\n      <td>No</td>\n      <td>Private</td>\n      <td>Urban</td>\n      <td>89.22</td>\n      <td>37.8</td>\n      <td>never smoked</td>\n      <td>1</td>\n    </tr>\n    <tr>\n      <th>20</th>\n      <td>70630</td>\n      <td>Female</td>\n      <td>71.0</td>\n      <td>0</td>\n      <td>0</td>\n      <td>Yes</td>\n      <td>Govt_job</td>\n      <td>Rural</td>\n      <td>193.94</td>\n      <td>22.4</td>\n      <td>smokes</td>\n      <td>1</td>\n    </tr>\n    <tr>\n      <th>21</th>\n      <td>13861</td>\n      <td>Female</td>\n      <td>52.0</td>\n      <td>1</td>\n      <td>0</td>\n      <td>Yes</td>\n      <td>Self-employed</td>\n      <td>Urban</td>\n      <td>233.29</td>\n      <td>48.9</td>\n      <td>never smoked</td>\n      <td>1</td>\n    </tr>\n    <tr>\n      <th>22</th>\n      <td>68794</td>\n      <td>Female</td>\n      <td>79.0</td>\n      <td>0</td>\n      <td>0</td>\n      <td>Yes</td>\n      <td>Self-employed</td>\n      <td>Urban</td>\n      <td>228.70</td>\n      <td>26.6</td>\n      <td>never smoked</td>\n      <td>1</td>\n    </tr>\n    <tr>\n      <th>23</th>\n      <td>64778</td>\n      <td>Male</td>\n      <td>82.0</td>\n      <td>0</td>\n      <td>1</td>\n      <td>Yes</td>\n      <td>Private</td>\n      <td>Rural</td>\n      <td>208.30</td>\n      <td>32.5</td>\n      <td>Unknown</td>\n      <td>1</td>\n    </tr>\n  </tbody>\n</table>\n</div>"
     },
     "execution_count": 86,
     "metadata": {},
     "output_type": "execute_result"
    }
   ],
   "source": [
    "df.head(20)"
   ]
  },
  {
   "attachments": {},
   "cell_type": "markdown",
   "metadata": {},
   "source": [
    "### List out all the columns"
   ]
  },
  {
   "cell_type": "code",
   "execution_count": 87,
   "metadata": {
    "ExecuteTime": {
     "start_time": "2023-05-01T21:51:18.477247Z",
     "end_time": "2023-05-01T21:51:18.492187Z"
    }
   },
   "outputs": [
    {
     "data": {
      "text/plain": "Index(['id', 'gender', 'age', 'hypertension', 'heart_disease', 'ever_married',\n       'work_type', 'Residence_type', 'avg_glucose_level', 'bmi',\n       'smoking_status', 'stroke'],\n      dtype='object')"
     },
     "execution_count": 87,
     "metadata": {},
     "output_type": "execute_result"
    }
   ],
   "source": [
    "df.columns"
   ]
  },
  {
   "attachments": {},
   "cell_type": "markdown",
   "metadata": {},
   "source": [
    "### List out all the variety of values in each column"
   ]
  },
  {
   "cell_type": "code",
   "execution_count": 88,
   "metadata": {
    "ExecuteTime": {
     "start_time": "2023-05-01T21:51:18.486839Z",
     "end_time": "2023-05-01T21:51:18.503658Z"
    }
   },
   "outputs": [
    {
     "name": "stdout",
     "output_type": "stream",
     "text": [
      "id\n",
      "\n",
      "[ 9046 31112 60182 ... 19723 37544 44679]\n",
      "gender\n",
      "\n",
      "['Male' 'Female' 'Other']\n",
      "age\n",
      "\n",
      "[6.70e+01 8.00e+01 4.90e+01 7.90e+01 8.10e+01 7.40e+01 6.90e+01 7.80e+01\n",
      " 6.10e+01 5.40e+01 5.00e+01 6.40e+01 7.50e+01 6.00e+01 7.10e+01 5.20e+01\n",
      " 8.20e+01 6.50e+01 5.70e+01 4.20e+01 4.80e+01 7.20e+01 5.80e+01 7.60e+01\n",
      " 3.90e+01 7.70e+01 6.30e+01 7.30e+01 5.60e+01 4.50e+01 7.00e+01 5.90e+01\n",
      " 6.60e+01 4.30e+01 6.80e+01 4.70e+01 5.30e+01 3.80e+01 5.50e+01 4.60e+01\n",
      " 3.20e+01 5.10e+01 1.40e+01 3.00e+00 8.00e+00 3.70e+01 4.00e+01 3.50e+01\n",
      " 2.00e+01 4.40e+01 2.50e+01 2.70e+01 2.30e+01 1.70e+01 1.30e+01 4.00e+00\n",
      " 1.60e+01 2.20e+01 3.00e+01 2.90e+01 1.10e+01 2.10e+01 1.80e+01 3.30e+01\n",
      " 2.40e+01 3.60e+01 6.40e-01 3.40e+01 4.10e+01 8.80e-01 5.00e+00 2.60e+01\n",
      " 3.10e+01 7.00e+00 1.20e+01 6.20e+01 2.00e+00 9.00e+00 1.50e+01 2.80e+01\n",
      " 1.00e+01 1.80e+00 3.20e-01 1.08e+00 1.90e+01 6.00e+00 1.16e+00 1.00e+00\n",
      " 1.40e+00 1.72e+00 2.40e-01 1.64e+00 1.56e+00 7.20e-01 1.88e+00 1.24e+00\n",
      " 8.00e-01 4.00e-01 8.00e-02 1.48e+00 5.60e-01 1.32e+00 1.60e-01 4.80e-01]\n",
      "hypertension\n",
      "\n",
      "[0 1]\n",
      "heart_disease\n",
      "\n",
      "[1 0]\n",
      "ever_married\n",
      "\n",
      "['Yes' 'No']\n",
      "work_type\n",
      "\n",
      "['Private' 'Self-employed' 'Govt_job' 'children' 'Never_worked']\n",
      "Residence_type\n",
      "\n",
      "['Urban' 'Rural']\n",
      "avg_glucose_level\n",
      "\n",
      "[228.69 105.92 171.23 ...  82.99 166.29  85.28]\n",
      "bmi\n",
      "\n",
      "[36.6 32.5 34.4 24.  29.  27.4 22.8 24.2 29.7 36.8 27.3 28.2 30.9 37.5\n",
      " 25.8 37.8 22.4 48.9 26.6 27.2 23.5 28.3 44.2 25.4 22.2 30.5 26.5 33.7\n",
      " 23.1 32.  29.9 23.9 28.5 26.4 20.2 33.6 38.6 39.2 27.7 31.4 36.5 33.2\n",
      " 32.8 40.4 25.3 30.2 47.5 20.3 30.  28.9 28.1 31.1 21.7 27.  24.1 45.9\n",
      " 44.1 22.9 29.1 32.3 41.1 25.6 29.8 26.3 26.2 29.4 24.4 28.  28.8 34.6\n",
      " 19.4 30.3 41.5 22.6 56.6 27.1 31.3 31.  31.7 35.8 28.4 20.1 26.7 38.7\n",
      " 34.9 25.  23.8 21.8 27.5 24.6 32.9 26.1 31.9 34.1 36.9 37.3 45.7 34.2\n",
      " 23.6 22.3 37.1 45.  25.5 30.8 37.4 34.5 27.9 29.5 46.  42.5 35.5 26.9\n",
      " 45.5 31.5 33.  23.4 30.7 20.5 21.5 40.  28.6 42.2 29.6 35.4 16.9 26.8\n",
      " 39.3 32.6 35.9 21.2 42.4 40.5 36.7 29.3 19.6 18.  17.6 19.1 50.1 17.7\n",
      " 54.6 35.  22.  39.4 19.7 22.5 25.2 41.8 60.9 23.7 24.5 31.2 16.  31.6\n",
      " 25.1 24.8 18.3 20.  19.5 36.  35.3 40.1 43.1 21.4 34.3 27.6 16.5 24.3\n",
      " 25.7 21.9 38.4 25.9 54.7 18.6 24.9 48.2 20.7 39.5 23.3 64.8 35.1 43.6\n",
      " 21.  47.3 16.6 21.6 15.5 35.6 16.7 41.9 16.4 17.1 29.2 37.9 44.6 39.6\n",
      " 40.3 41.6 39.  23.2 18.9 36.1 36.3 46.5 16.8 46.6 35.2 20.9 13.8 31.8\n",
      " 15.3 38.2 45.2 17.  49.8 27.8 60.2 23.  22.1 26.  44.3 51.  39.7 34.7\n",
      " 21.3 41.2 34.8 19.2 35.7 40.8 24.7 19.  32.4 34.  28.7 32.1 51.5 20.4\n",
      " 30.6 71.9 19.3 40.9 17.2 16.1 16.2 40.6 18.4 21.1 42.3 32.2 50.2 17.5\n",
      " 18.7 42.1 47.8 20.8 30.1 17.3 36.4 12.  36.2 55.7 14.4 43.  41.7 33.8\n",
      " 43.9 22.7 57.5 37.  38.5 16.3 44.  32.7 54.2 40.2 33.3 17.4 41.3 52.3\n",
      " 14.6 17.8 46.1 33.1 18.1 43.8 50.3 38.9 43.7 39.9 15.9 19.8 12.3 78.\n",
      " 38.3 41.  42.6 43.4 15.1 20.6 33.5 43.2 30.4 38.  33.4 44.9 44.7 37.6\n",
      " 39.8 53.4 55.2 42.  37.2 42.8 18.8 42.9 14.3 37.7 48.4 50.6 46.2 49.5\n",
      " 43.3 33.9 18.5 44.5 45.4 55.  54.8 19.9 17.9 15.6 52.8 15.2 66.8 55.1\n",
      " 18.2 48.5 55.9 57.3 10.3 14.1 15.7 56.  44.8 13.4 51.8 38.1 57.7 44.4\n",
      " 38.8 49.3 39.1 54.  56.1 97.6 53.9 13.7 11.5 41.4 14.2 49.4 15.4 45.1\n",
      " 49.2 48.7 53.8 42.7 48.8 52.7 53.5 50.5 15.8 45.3 14.8 51.9 63.3 40.7\n",
      " 61.2 48.  46.8 48.3 58.1 50.4 11.3 12.8 13.5 14.5 15.  59.7 47.4 52.5\n",
      " 13.2 52.9 61.6 49.9 54.3 47.9 13.  13.9 50.9 57.2 64.4 92.  50.8 57.9\n",
      " 45.8 47.6 14.  46.4 46.9 47.1 13.3 48.1 51.7 46.3 54.1 14.9]\n",
      "smoking_status\n",
      "\n",
      "['formerly smoked' 'never smoked' 'smokes' 'Unknown']\n",
      "stroke\n",
      "\n",
      "[1 0]\n"
     ]
    }
   ],
   "source": [
    "for col in df.columns:\n",
    "    print(\"{}\\n\".format(col))\n",
    "    print(df[col].unique())"
   ]
  },
  {
   "cell_type": "code",
   "execution_count": 89,
   "outputs": [
    {
     "name": "stdout",
     "output_type": "stream",
     "text": [
      "Before drop `Other` in gender: 4909\n",
      "1\n",
      "After drop `Other` in gender: 4908\n"
     ]
    }
   ],
   "source": [
    "print('Before drop `Other` in gender: {}'.format(df.shape[0]))\n",
    "other_rows = df[df['gender'] == 'Other']\n",
    "num_other_rows = (df['gender'] == 'Other').sum()\n",
    "# print(other_rows)\n",
    "print(num_other_rows)\n",
    "\n",
    "df.drop(df[df['gender'] == 'Other'].index, inplace=True)\n",
    "print('After drop `Other` in gender: {}'.format(df.shape[0]))\n",
    "\n"
   ],
   "metadata": {
    "collapsed": false,
    "ExecuteTime": {
     "start_time": "2023-05-01T21:51:18.511301Z",
     "end_time": "2023-05-01T21:51:18.558603Z"
    }
   }
  },
  {
   "attachments": {},
   "cell_type": "markdown",
   "metadata": {},
   "source": [
    "### Find the number of records that has 'Unknown' in `smoking_status` "
   ]
  },
  {
   "cell_type": "code",
   "execution_count": 90,
   "metadata": {
    "ExecuteTime": {
     "start_time": "2023-05-01T21:51:18.520905Z",
     "end_time": "2023-05-01T21:51:18.559054Z"
    }
   },
   "outputs": [],
   "source": [
    "# drop records that has 'Unknown' in smoking_status\n",
    "# smoking_unknown_rows = df[df['smoking_status'] == 'Unknown'].shape[0]\n",
    "# print(smoking_unknown_rows)\n",
    "# print('Number of records before dropping record that has `Unknown` values: {}'.format(df.shape[0]))\n",
    "# df = df[~(df['smoking_status'] == 'Unknown')]\n",
    "# print('Number of records after dropping record that has `Unknown` values: {}'.format(df.shape[0]))"
   ]
  },
  {
   "attachments": {},
   "cell_type": "markdown",
   "metadata": {},
   "source": [
    "### Convert non-numerical values to numerical"
   ]
  },
  {
   "cell_type": "code",
   "execution_count": 91,
   "metadata": {
    "ExecuteTime": {
     "start_time": "2023-05-01T21:51:18.533678Z",
     "end_time": "2023-05-01T21:51:18.581136Z"
    }
   },
   "outputs": [
    {
     "data": {
      "text/plain": "       id  gender   age  hypertension  heart_disease  ever_married  work_type  \\\n0    9046       1  67.0             0              1             1          1   \n2   31112       1  80.0             0              1             1          1   \n3   60182       0  49.0             0              0             1          1   \n4    1665       0  79.0             1              0             1          2   \n5   56669       1  81.0             0              0             1          1   \n6   53882       1  74.0             1              1             1          1   \n7   10434       0  69.0             0              0             0          1   \n9   60491       0  78.0             0              0             1          1   \n10  12109       0  81.0             1              0             1          1   \n11  12095       0  61.0             0              1             1          3   \n12  12175       0  54.0             0              0             1          1   \n14   5317       0  79.0             0              1             1          1   \n15  58202       0  50.0             1              0             1          2   \n16  56112       1  64.0             0              1             1          1   \n17  34120       1  75.0             1              0             1          1   \n18  27458       0  60.0             0              0             0          1   \n20  70630       0  71.0             0              0             1          3   \n21  13861       0  52.0             1              0             1          2   \n22  68794       0  79.0             0              0             1          2   \n23  64778       1  82.0             0              1             1          1   \n\n    avg_glucose_level   bmi  smoking_status  stroke  residence_type  \n0              228.69  36.6               2       1               1  \n2              105.92  32.5               0       1               0  \n3              171.23  34.4               1       1               1  \n4              174.12  24.0               0       1               0  \n5              186.21  29.0               2       1               1  \n6               70.09  27.4               0       1               0  \n7               94.39  22.8               0       1               1  \n9               58.57  24.2               3       1               1  \n10              80.43  29.7               0       1               0  \n11             120.46  36.8               1       1               0  \n12             104.51  27.3               1       1               1  \n14             214.09  28.2               0       1               1  \n15             167.41  30.9               0       1               0  \n16             191.61  37.5               1       1               1  \n17             221.29  25.8               1       1               1  \n18              89.22  37.8               0       1               1  \n20             193.94  22.4               1       1               0  \n21             233.29  48.9               0       1               1  \n22             228.70  26.6               0       1               1  \n23             208.30  32.5               3       1               0  ",
      "text/html": "<div>\n<style scoped>\n    .dataframe tbody tr th:only-of-type {\n        vertical-align: middle;\n    }\n\n    .dataframe tbody tr th {\n        vertical-align: top;\n    }\n\n    .dataframe thead th {\n        text-align: right;\n    }\n</style>\n<table border=\"1\" class=\"dataframe\">\n  <thead>\n    <tr style=\"text-align: right;\">\n      <th></th>\n      <th>id</th>\n      <th>gender</th>\n      <th>age</th>\n      <th>hypertension</th>\n      <th>heart_disease</th>\n      <th>ever_married</th>\n      <th>work_type</th>\n      <th>avg_glucose_level</th>\n      <th>bmi</th>\n      <th>smoking_status</th>\n      <th>stroke</th>\n      <th>residence_type</th>\n    </tr>\n  </thead>\n  <tbody>\n    <tr>\n      <th>0</th>\n      <td>9046</td>\n      <td>1</td>\n      <td>67.0</td>\n      <td>0</td>\n      <td>1</td>\n      <td>1</td>\n      <td>1</td>\n      <td>228.69</td>\n      <td>36.6</td>\n      <td>2</td>\n      <td>1</td>\n      <td>1</td>\n    </tr>\n    <tr>\n      <th>2</th>\n      <td>31112</td>\n      <td>1</td>\n      <td>80.0</td>\n      <td>0</td>\n      <td>1</td>\n      <td>1</td>\n      <td>1</td>\n      <td>105.92</td>\n      <td>32.5</td>\n      <td>0</td>\n      <td>1</td>\n      <td>0</td>\n    </tr>\n    <tr>\n      <th>3</th>\n      <td>60182</td>\n      <td>0</td>\n      <td>49.0</td>\n      <td>0</td>\n      <td>0</td>\n      <td>1</td>\n      <td>1</td>\n      <td>171.23</td>\n      <td>34.4</td>\n      <td>1</td>\n      <td>1</td>\n      <td>1</td>\n    </tr>\n    <tr>\n      <th>4</th>\n      <td>1665</td>\n      <td>0</td>\n      <td>79.0</td>\n      <td>1</td>\n      <td>0</td>\n      <td>1</td>\n      <td>2</td>\n      <td>174.12</td>\n      <td>24.0</td>\n      <td>0</td>\n      <td>1</td>\n      <td>0</td>\n    </tr>\n    <tr>\n      <th>5</th>\n      <td>56669</td>\n      <td>1</td>\n      <td>81.0</td>\n      <td>0</td>\n      <td>0</td>\n      <td>1</td>\n      <td>1</td>\n      <td>186.21</td>\n      <td>29.0</td>\n      <td>2</td>\n      <td>1</td>\n      <td>1</td>\n    </tr>\n    <tr>\n      <th>6</th>\n      <td>53882</td>\n      <td>1</td>\n      <td>74.0</td>\n      <td>1</td>\n      <td>1</td>\n      <td>1</td>\n      <td>1</td>\n      <td>70.09</td>\n      <td>27.4</td>\n      <td>0</td>\n      <td>1</td>\n      <td>0</td>\n    </tr>\n    <tr>\n      <th>7</th>\n      <td>10434</td>\n      <td>0</td>\n      <td>69.0</td>\n      <td>0</td>\n      <td>0</td>\n      <td>0</td>\n      <td>1</td>\n      <td>94.39</td>\n      <td>22.8</td>\n      <td>0</td>\n      <td>1</td>\n      <td>1</td>\n    </tr>\n    <tr>\n      <th>9</th>\n      <td>60491</td>\n      <td>0</td>\n      <td>78.0</td>\n      <td>0</td>\n      <td>0</td>\n      <td>1</td>\n      <td>1</td>\n      <td>58.57</td>\n      <td>24.2</td>\n      <td>3</td>\n      <td>1</td>\n      <td>1</td>\n    </tr>\n    <tr>\n      <th>10</th>\n      <td>12109</td>\n      <td>0</td>\n      <td>81.0</td>\n      <td>1</td>\n      <td>0</td>\n      <td>1</td>\n      <td>1</td>\n      <td>80.43</td>\n      <td>29.7</td>\n      <td>0</td>\n      <td>1</td>\n      <td>0</td>\n    </tr>\n    <tr>\n      <th>11</th>\n      <td>12095</td>\n      <td>0</td>\n      <td>61.0</td>\n      <td>0</td>\n      <td>1</td>\n      <td>1</td>\n      <td>3</td>\n      <td>120.46</td>\n      <td>36.8</td>\n      <td>1</td>\n      <td>1</td>\n      <td>0</td>\n    </tr>\n    <tr>\n      <th>12</th>\n      <td>12175</td>\n      <td>0</td>\n      <td>54.0</td>\n      <td>0</td>\n      <td>0</td>\n      <td>1</td>\n      <td>1</td>\n      <td>104.51</td>\n      <td>27.3</td>\n      <td>1</td>\n      <td>1</td>\n      <td>1</td>\n    </tr>\n    <tr>\n      <th>14</th>\n      <td>5317</td>\n      <td>0</td>\n      <td>79.0</td>\n      <td>0</td>\n      <td>1</td>\n      <td>1</td>\n      <td>1</td>\n      <td>214.09</td>\n      <td>28.2</td>\n      <td>0</td>\n      <td>1</td>\n      <td>1</td>\n    </tr>\n    <tr>\n      <th>15</th>\n      <td>58202</td>\n      <td>0</td>\n      <td>50.0</td>\n      <td>1</td>\n      <td>0</td>\n      <td>1</td>\n      <td>2</td>\n      <td>167.41</td>\n      <td>30.9</td>\n      <td>0</td>\n      <td>1</td>\n      <td>0</td>\n    </tr>\n    <tr>\n      <th>16</th>\n      <td>56112</td>\n      <td>1</td>\n      <td>64.0</td>\n      <td>0</td>\n      <td>1</td>\n      <td>1</td>\n      <td>1</td>\n      <td>191.61</td>\n      <td>37.5</td>\n      <td>1</td>\n      <td>1</td>\n      <td>1</td>\n    </tr>\n    <tr>\n      <th>17</th>\n      <td>34120</td>\n      <td>1</td>\n      <td>75.0</td>\n      <td>1</td>\n      <td>0</td>\n      <td>1</td>\n      <td>1</td>\n      <td>221.29</td>\n      <td>25.8</td>\n      <td>1</td>\n      <td>1</td>\n      <td>1</td>\n    </tr>\n    <tr>\n      <th>18</th>\n      <td>27458</td>\n      <td>0</td>\n      <td>60.0</td>\n      <td>0</td>\n      <td>0</td>\n      <td>0</td>\n      <td>1</td>\n      <td>89.22</td>\n      <td>37.8</td>\n      <td>0</td>\n      <td>1</td>\n      <td>1</td>\n    </tr>\n    <tr>\n      <th>20</th>\n      <td>70630</td>\n      <td>0</td>\n      <td>71.0</td>\n      <td>0</td>\n      <td>0</td>\n      <td>1</td>\n      <td>3</td>\n      <td>193.94</td>\n      <td>22.4</td>\n      <td>1</td>\n      <td>1</td>\n      <td>0</td>\n    </tr>\n    <tr>\n      <th>21</th>\n      <td>13861</td>\n      <td>0</td>\n      <td>52.0</td>\n      <td>1</td>\n      <td>0</td>\n      <td>1</td>\n      <td>2</td>\n      <td>233.29</td>\n      <td>48.9</td>\n      <td>0</td>\n      <td>1</td>\n      <td>1</td>\n    </tr>\n    <tr>\n      <th>22</th>\n      <td>68794</td>\n      <td>0</td>\n      <td>79.0</td>\n      <td>0</td>\n      <td>0</td>\n      <td>1</td>\n      <td>2</td>\n      <td>228.70</td>\n      <td>26.6</td>\n      <td>0</td>\n      <td>1</td>\n      <td>1</td>\n    </tr>\n    <tr>\n      <th>23</th>\n      <td>64778</td>\n      <td>1</td>\n      <td>82.0</td>\n      <td>0</td>\n      <td>1</td>\n      <td>1</td>\n      <td>1</td>\n      <td>208.30</td>\n      <td>32.5</td>\n      <td>3</td>\n      <td>1</td>\n      <td>0</td>\n    </tr>\n  </tbody>\n</table>\n</div>"
     },
     "execution_count": 91,
     "metadata": {},
     "output_type": "execute_result"
    }
   ],
   "source": [
    "\n",
    "df['gender'] = df['gender'].map({'Male': 1, 'Female': 0})\n",
    "df['ever_married'] = df['ever_married'].map({'Yes': 1, 'No': 0})\n",
    "df['work_type'] = df['work_type'].map({'Never_worked': 0, 'Private': 1, 'Self-employed':2, 'Govt_job': 3, 'children': 4})\n",
    "df['residence_type'] = df['Residence_type'].map({'Urban': 1, 'Rural': 0})\n",
    "df['smoking_status'] = df['smoking_status'].map({'never smoked': 0, 'smokes': 1, 'formerly smoked': 2, 'Unknown': 3})\n",
    "df = df.drop('Residence_type', axis=1)\n",
    "df.head(20)"
   ]
  },
  {
   "cell_type": "code",
   "execution_count": 92,
   "metadata": {
    "ExecuteTime": {
     "start_time": "2023-05-01T21:51:18.563478Z",
     "end_time": "2023-05-01T21:51:18.659710Z"
    }
   },
   "outputs": [
    {
     "data": {
      "text/plain": "         id  gender   age  hypertension  heart_disease  ever_married  \\\n249   30669       1   3.0             0              0             0   \n251   16523       0   8.0             0              0             0   \n252   56543       0  70.0             0              0             1   \n253   46136       1  14.0             0              0             0   \n254   32257       0  47.0             0              0             1   \n...     ...     ...   ...           ...            ...           ...   \n5104  14180       0  13.0             0              0             0   \n5106  44873       0  81.0             0              0             1   \n5107  19723       0  35.0             0              0             1   \n5108  37544       1  51.0             0              0             1   \n5109  44679       0  44.0             0              0             1   \n\n      work_type  avg_glucose_level   bmi  smoking_status  stroke  \\\n249           4              95.12  18.0               3       0   \n251           1             110.89  17.6               3       0   \n252           1              69.04  35.9               2       0   \n253           0             161.28  19.1               3       0   \n254           1             210.95  50.1               3       0   \n...         ...                ...   ...             ...     ...   \n5104          4             103.08  18.6               3       0   \n5106          2             125.20  40.0               0       0   \n5107          2              82.99  30.6               0       0   \n5108          1             166.29  25.6               2       0   \n5109          3              85.28  26.2               3       0   \n\n      residence_type  \n249                0  \n251                1  \n252                0  \n253                0  \n254                1  \n...              ...  \n5104               0  \n5106               1  \n5107               0  \n5108               0  \n5109               1  \n\n[4076 rows x 12 columns]",
      "text/html": "<div>\n<style scoped>\n    .dataframe tbody tr th:only-of-type {\n        vertical-align: middle;\n    }\n\n    .dataframe tbody tr th {\n        vertical-align: top;\n    }\n\n    .dataframe thead th {\n        text-align: right;\n    }\n</style>\n<table border=\"1\" class=\"dataframe\">\n  <thead>\n    <tr style=\"text-align: right;\">\n      <th></th>\n      <th>id</th>\n      <th>gender</th>\n      <th>age</th>\n      <th>hypertension</th>\n      <th>heart_disease</th>\n      <th>ever_married</th>\n      <th>work_type</th>\n      <th>avg_glucose_level</th>\n      <th>bmi</th>\n      <th>smoking_status</th>\n      <th>stroke</th>\n      <th>residence_type</th>\n    </tr>\n  </thead>\n  <tbody>\n    <tr>\n      <th>249</th>\n      <td>30669</td>\n      <td>1</td>\n      <td>3.0</td>\n      <td>0</td>\n      <td>0</td>\n      <td>0</td>\n      <td>4</td>\n      <td>95.12</td>\n      <td>18.0</td>\n      <td>3</td>\n      <td>0</td>\n      <td>0</td>\n    </tr>\n    <tr>\n      <th>251</th>\n      <td>16523</td>\n      <td>0</td>\n      <td>8.0</td>\n      <td>0</td>\n      <td>0</td>\n      <td>0</td>\n      <td>1</td>\n      <td>110.89</td>\n      <td>17.6</td>\n      <td>3</td>\n      <td>0</td>\n      <td>1</td>\n    </tr>\n    <tr>\n      <th>252</th>\n      <td>56543</td>\n      <td>0</td>\n      <td>70.0</td>\n      <td>0</td>\n      <td>0</td>\n      <td>1</td>\n      <td>1</td>\n      <td>69.04</td>\n      <td>35.9</td>\n      <td>2</td>\n      <td>0</td>\n      <td>0</td>\n    </tr>\n    <tr>\n      <th>253</th>\n      <td>46136</td>\n      <td>1</td>\n      <td>14.0</td>\n      <td>0</td>\n      <td>0</td>\n      <td>0</td>\n      <td>0</td>\n      <td>161.28</td>\n      <td>19.1</td>\n      <td>3</td>\n      <td>0</td>\n      <td>0</td>\n    </tr>\n    <tr>\n      <th>254</th>\n      <td>32257</td>\n      <td>0</td>\n      <td>47.0</td>\n      <td>0</td>\n      <td>0</td>\n      <td>1</td>\n      <td>1</td>\n      <td>210.95</td>\n      <td>50.1</td>\n      <td>3</td>\n      <td>0</td>\n      <td>1</td>\n    </tr>\n    <tr>\n      <th>...</th>\n      <td>...</td>\n      <td>...</td>\n      <td>...</td>\n      <td>...</td>\n      <td>...</td>\n      <td>...</td>\n      <td>...</td>\n      <td>...</td>\n      <td>...</td>\n      <td>...</td>\n      <td>...</td>\n      <td>...</td>\n    </tr>\n    <tr>\n      <th>5104</th>\n      <td>14180</td>\n      <td>0</td>\n      <td>13.0</td>\n      <td>0</td>\n      <td>0</td>\n      <td>0</td>\n      <td>4</td>\n      <td>103.08</td>\n      <td>18.6</td>\n      <td>3</td>\n      <td>0</td>\n      <td>0</td>\n    </tr>\n    <tr>\n      <th>5106</th>\n      <td>44873</td>\n      <td>0</td>\n      <td>81.0</td>\n      <td>0</td>\n      <td>0</td>\n      <td>1</td>\n      <td>2</td>\n      <td>125.20</td>\n      <td>40.0</td>\n      <td>0</td>\n      <td>0</td>\n      <td>1</td>\n    </tr>\n    <tr>\n      <th>5107</th>\n      <td>19723</td>\n      <td>0</td>\n      <td>35.0</td>\n      <td>0</td>\n      <td>0</td>\n      <td>1</td>\n      <td>2</td>\n      <td>82.99</td>\n      <td>30.6</td>\n      <td>0</td>\n      <td>0</td>\n      <td>0</td>\n    </tr>\n    <tr>\n      <th>5108</th>\n      <td>37544</td>\n      <td>1</td>\n      <td>51.0</td>\n      <td>0</td>\n      <td>0</td>\n      <td>1</td>\n      <td>1</td>\n      <td>166.29</td>\n      <td>25.6</td>\n      <td>2</td>\n      <td>0</td>\n      <td>0</td>\n    </tr>\n    <tr>\n      <th>5109</th>\n      <td>44679</td>\n      <td>0</td>\n      <td>44.0</td>\n      <td>0</td>\n      <td>0</td>\n      <td>1</td>\n      <td>3</td>\n      <td>85.28</td>\n      <td>26.2</td>\n      <td>3</td>\n      <td>0</td>\n      <td>1</td>\n    </tr>\n  </tbody>\n</table>\n<p>4076 rows × 12 columns</p>\n</div>"
     },
     "execution_count": 92,
     "metadata": {},
     "output_type": "execute_result"
    }
   ],
   "source": [
    "import numpy as np\n",
    "from scipy import stats\n",
    "\n",
    "\n",
    "z_scores = np.abs(stats.zscore(df))\n",
    "threshold = 3\n",
    "df1 = df[(z_scores < threshold).all(axis=1)]\n",
    "df1"
   ]
  },
  {
   "attachments": {},
   "cell_type": "markdown",
   "metadata": {},
   "source": [
    "### Normalize data by converting the values to the scale of [0, 1]"
   ]
  },
  {
   "cell_type": "code",
   "execution_count": 93,
   "metadata": {
    "ExecuteTime": {
     "start_time": "2023-05-01T21:51:18.592557Z",
     "end_time": "2023-05-01T21:51:18.661274Z"
    }
   },
   "outputs": [
    {
     "data": {
      "text/plain": "    gender       age  hypertension  heart_disease  ever_married  work_type  \\\n0      1.0  0.816895           0.0            1.0           1.0       0.25   \n1      1.0  0.975586           0.0            1.0           1.0       0.25   \n2      0.0  0.597168           0.0            0.0           1.0       0.25   \n3      0.0  0.963379           1.0            0.0           1.0       0.50   \n4      1.0  0.987793           0.0            0.0           1.0       0.25   \n5      1.0  0.902344           1.0            1.0           1.0       0.25   \n6      0.0  0.841309           0.0            0.0           0.0       0.25   \n7      0.0  0.951172           0.0            0.0           1.0       0.25   \n8      0.0  0.987793           1.0            0.0           1.0       0.25   \n9      0.0  0.743652           0.0            1.0           1.0       0.75   \n10     0.0  0.658203           0.0            0.0           1.0       0.25   \n11     0.0  0.963379           0.0            1.0           1.0       0.25   \n12     0.0  0.609375           1.0            0.0           1.0       0.50   \n13     1.0  0.780273           0.0            1.0           1.0       0.25   \n14     1.0  0.914551           1.0            0.0           1.0       0.25   \n15     0.0  0.731445           0.0            0.0           0.0       0.25   \n16     0.0  0.865723           0.0            0.0           1.0       0.75   \n17     0.0  0.633789           1.0            0.0           1.0       0.50   \n18     0.0  0.963379           0.0            0.0           1.0       0.50   \n19     1.0  1.000000           0.0            1.0           1.0       0.25   \n\n    avg_glucose_level       bmi  smoking_status  stroke  residence_type     id  \n0            0.801265  0.301260        0.666667     1.0             1.0   9046  \n1            0.234512  0.254296        0.000000     1.0             0.0  31112  \n2            0.536008  0.276060        0.333333     1.0             1.0  60182  \n3            0.549349  0.156930        0.000000     1.0             0.0   1665  \n4            0.605161  0.214204        0.666667     1.0             1.0  56669  \n5            0.069107  0.195876        0.000000     1.0             0.0  53882  \n6            0.181285  0.143184        0.000000     1.0             1.0  10434  \n7            0.015927  0.159221        1.000000     1.0             1.0  60491  \n8            0.116841  0.222222        0.000000     1.0             0.0  12109  \n9            0.301634  0.303551        0.333333     1.0             0.0  12095  \n10           0.228003  0.194731        0.333333     1.0             1.0  12175  \n11           0.733866  0.205040        0.000000     1.0             1.0   5317  \n12           0.518373  0.235968        0.000000     1.0             0.0  58202  \n13           0.630090  0.311569        0.333333     1.0             1.0  56112  \n14           0.767104  0.177549        0.333333     1.0             1.0  34120  \n15           0.157419  0.315006        0.000000     1.0             1.0  27458  \n16           0.640846  0.138603        0.333333     1.0             0.0  70630  \n17           0.822500  0.442153        0.000000     1.0             1.0  13861  \n18           0.801311  0.186712        0.000000     1.0             1.0  68794  \n19           0.707137  0.254296        1.000000     1.0             0.0  64778  ",
      "text/html": "<div>\n<style scoped>\n    .dataframe tbody tr th:only-of-type {\n        vertical-align: middle;\n    }\n\n    .dataframe tbody tr th {\n        vertical-align: top;\n    }\n\n    .dataframe thead th {\n        text-align: right;\n    }\n</style>\n<table border=\"1\" class=\"dataframe\">\n  <thead>\n    <tr style=\"text-align: right;\">\n      <th></th>\n      <th>gender</th>\n      <th>age</th>\n      <th>hypertension</th>\n      <th>heart_disease</th>\n      <th>ever_married</th>\n      <th>work_type</th>\n      <th>avg_glucose_level</th>\n      <th>bmi</th>\n      <th>smoking_status</th>\n      <th>stroke</th>\n      <th>residence_type</th>\n      <th>id</th>\n    </tr>\n  </thead>\n  <tbody>\n    <tr>\n      <th>0</th>\n      <td>1.0</td>\n      <td>0.816895</td>\n      <td>0.0</td>\n      <td>1.0</td>\n      <td>1.0</td>\n      <td>0.25</td>\n      <td>0.801265</td>\n      <td>0.301260</td>\n      <td>0.666667</td>\n      <td>1.0</td>\n      <td>1.0</td>\n      <td>9046</td>\n    </tr>\n    <tr>\n      <th>1</th>\n      <td>1.0</td>\n      <td>0.975586</td>\n      <td>0.0</td>\n      <td>1.0</td>\n      <td>1.0</td>\n      <td>0.25</td>\n      <td>0.234512</td>\n      <td>0.254296</td>\n      <td>0.000000</td>\n      <td>1.0</td>\n      <td>0.0</td>\n      <td>31112</td>\n    </tr>\n    <tr>\n      <th>2</th>\n      <td>0.0</td>\n      <td>0.597168</td>\n      <td>0.0</td>\n      <td>0.0</td>\n      <td>1.0</td>\n      <td>0.25</td>\n      <td>0.536008</td>\n      <td>0.276060</td>\n      <td>0.333333</td>\n      <td>1.0</td>\n      <td>1.0</td>\n      <td>60182</td>\n    </tr>\n    <tr>\n      <th>3</th>\n      <td>0.0</td>\n      <td>0.963379</td>\n      <td>1.0</td>\n      <td>0.0</td>\n      <td>1.0</td>\n      <td>0.50</td>\n      <td>0.549349</td>\n      <td>0.156930</td>\n      <td>0.000000</td>\n      <td>1.0</td>\n      <td>0.0</td>\n      <td>1665</td>\n    </tr>\n    <tr>\n      <th>4</th>\n      <td>1.0</td>\n      <td>0.987793</td>\n      <td>0.0</td>\n      <td>0.0</td>\n      <td>1.0</td>\n      <td>0.25</td>\n      <td>0.605161</td>\n      <td>0.214204</td>\n      <td>0.666667</td>\n      <td>1.0</td>\n      <td>1.0</td>\n      <td>56669</td>\n    </tr>\n    <tr>\n      <th>5</th>\n      <td>1.0</td>\n      <td>0.902344</td>\n      <td>1.0</td>\n      <td>1.0</td>\n      <td>1.0</td>\n      <td>0.25</td>\n      <td>0.069107</td>\n      <td>0.195876</td>\n      <td>0.000000</td>\n      <td>1.0</td>\n      <td>0.0</td>\n      <td>53882</td>\n    </tr>\n    <tr>\n      <th>6</th>\n      <td>0.0</td>\n      <td>0.841309</td>\n      <td>0.0</td>\n      <td>0.0</td>\n      <td>0.0</td>\n      <td>0.25</td>\n      <td>0.181285</td>\n      <td>0.143184</td>\n      <td>0.000000</td>\n      <td>1.0</td>\n      <td>1.0</td>\n      <td>10434</td>\n    </tr>\n    <tr>\n      <th>7</th>\n      <td>0.0</td>\n      <td>0.951172</td>\n      <td>0.0</td>\n      <td>0.0</td>\n      <td>1.0</td>\n      <td>0.25</td>\n      <td>0.015927</td>\n      <td>0.159221</td>\n      <td>1.000000</td>\n      <td>1.0</td>\n      <td>1.0</td>\n      <td>60491</td>\n    </tr>\n    <tr>\n      <th>8</th>\n      <td>0.0</td>\n      <td>0.987793</td>\n      <td>1.0</td>\n      <td>0.0</td>\n      <td>1.0</td>\n      <td>0.25</td>\n      <td>0.116841</td>\n      <td>0.222222</td>\n      <td>0.000000</td>\n      <td>1.0</td>\n      <td>0.0</td>\n      <td>12109</td>\n    </tr>\n    <tr>\n      <th>9</th>\n      <td>0.0</td>\n      <td>0.743652</td>\n      <td>0.0</td>\n      <td>1.0</td>\n      <td>1.0</td>\n      <td>0.75</td>\n      <td>0.301634</td>\n      <td>0.303551</td>\n      <td>0.333333</td>\n      <td>1.0</td>\n      <td>0.0</td>\n      <td>12095</td>\n    </tr>\n    <tr>\n      <th>10</th>\n      <td>0.0</td>\n      <td>0.658203</td>\n      <td>0.0</td>\n      <td>0.0</td>\n      <td>1.0</td>\n      <td>0.25</td>\n      <td>0.228003</td>\n      <td>0.194731</td>\n      <td>0.333333</td>\n      <td>1.0</td>\n      <td>1.0</td>\n      <td>12175</td>\n    </tr>\n    <tr>\n      <th>11</th>\n      <td>0.0</td>\n      <td>0.963379</td>\n      <td>0.0</td>\n      <td>1.0</td>\n      <td>1.0</td>\n      <td>0.25</td>\n      <td>0.733866</td>\n      <td>0.205040</td>\n      <td>0.000000</td>\n      <td>1.0</td>\n      <td>1.0</td>\n      <td>5317</td>\n    </tr>\n    <tr>\n      <th>12</th>\n      <td>0.0</td>\n      <td>0.609375</td>\n      <td>1.0</td>\n      <td>0.0</td>\n      <td>1.0</td>\n      <td>0.50</td>\n      <td>0.518373</td>\n      <td>0.235968</td>\n      <td>0.000000</td>\n      <td>1.0</td>\n      <td>0.0</td>\n      <td>58202</td>\n    </tr>\n    <tr>\n      <th>13</th>\n      <td>1.0</td>\n      <td>0.780273</td>\n      <td>0.0</td>\n      <td>1.0</td>\n      <td>1.0</td>\n      <td>0.25</td>\n      <td>0.630090</td>\n      <td>0.311569</td>\n      <td>0.333333</td>\n      <td>1.0</td>\n      <td>1.0</td>\n      <td>56112</td>\n    </tr>\n    <tr>\n      <th>14</th>\n      <td>1.0</td>\n      <td>0.914551</td>\n      <td>1.0</td>\n      <td>0.0</td>\n      <td>1.0</td>\n      <td>0.25</td>\n      <td>0.767104</td>\n      <td>0.177549</td>\n      <td>0.333333</td>\n      <td>1.0</td>\n      <td>1.0</td>\n      <td>34120</td>\n    </tr>\n    <tr>\n      <th>15</th>\n      <td>0.0</td>\n      <td>0.731445</td>\n      <td>0.0</td>\n      <td>0.0</td>\n      <td>0.0</td>\n      <td>0.25</td>\n      <td>0.157419</td>\n      <td>0.315006</td>\n      <td>0.000000</td>\n      <td>1.0</td>\n      <td>1.0</td>\n      <td>27458</td>\n    </tr>\n    <tr>\n      <th>16</th>\n      <td>0.0</td>\n      <td>0.865723</td>\n      <td>0.0</td>\n      <td>0.0</td>\n      <td>1.0</td>\n      <td>0.75</td>\n      <td>0.640846</td>\n      <td>0.138603</td>\n      <td>0.333333</td>\n      <td>1.0</td>\n      <td>0.0</td>\n      <td>70630</td>\n    </tr>\n    <tr>\n      <th>17</th>\n      <td>0.0</td>\n      <td>0.633789</td>\n      <td>1.0</td>\n      <td>0.0</td>\n      <td>1.0</td>\n      <td>0.50</td>\n      <td>0.822500</td>\n      <td>0.442153</td>\n      <td>0.000000</td>\n      <td>1.0</td>\n      <td>1.0</td>\n      <td>13861</td>\n    </tr>\n    <tr>\n      <th>18</th>\n      <td>0.0</td>\n      <td>0.963379</td>\n      <td>0.0</td>\n      <td>0.0</td>\n      <td>1.0</td>\n      <td>0.50</td>\n      <td>0.801311</td>\n      <td>0.186712</td>\n      <td>0.000000</td>\n      <td>1.0</td>\n      <td>1.0</td>\n      <td>68794</td>\n    </tr>\n    <tr>\n      <th>19</th>\n      <td>1.0</td>\n      <td>1.000000</td>\n      <td>0.0</td>\n      <td>1.0</td>\n      <td>1.0</td>\n      <td>0.25</td>\n      <td>0.707137</td>\n      <td>0.254296</td>\n      <td>1.000000</td>\n      <td>1.0</td>\n      <td>0.0</td>\n      <td>64778</td>\n    </tr>\n  </tbody>\n</table>\n</div>"
     },
     "execution_count": 93,
     "metadata": {},
     "output_type": "execute_result"
    }
   ],
   "source": [
    "from sklearn.preprocessing import MinMaxScaler\n",
    "scaler = MinMaxScaler()\n",
    "id = df.pop('id') \n",
    "df_normalized = pd.DataFrame(scaler.fit_transform(df), columns=df.columns)\n",
    "df_normalized = pd.concat([df_normalized, id.reset_index(drop=True)], axis=1)\n",
    "df_normalized.head(20)\n",
    "\n"
   ]
  },
  {
   "cell_type": "code",
   "execution_count": 94,
   "outputs": [
    {
     "name": "stdout",
     "output_type": "stream",
     "text": [
      "209\n",
      "4699\n"
     ]
    }
   ],
   "source": [
    "# nan_rows = (df[df.isna().any(axis=1)])\n",
    "# num_nan_rows = nan_rows.sum()\n",
    "# print(nan_rows)\n",
    "# print(num_nan_rows)\n",
    "\n",
    "stroke_num_rows = (df['stroke'] == 1).sum()\n",
    "non_stroke_rows = (df['stroke'] == 0).sum()\n",
    "print(stroke_num_rows)\n",
    "print(non_stroke_rows)"
   ],
   "metadata": {
    "collapsed": false,
    "ExecuteTime": {
     "start_time": "2023-05-01T21:51:18.633750Z",
     "end_time": "2023-05-01T21:51:18.682435Z"
    }
   }
  },
  {
   "attachments": {},
   "cell_type": "markdown",
   "metadata": {},
   "source": [
    "### Write to new CSV File"
   ]
  },
  {
   "cell_type": "code",
   "execution_count": 95,
   "metadata": {
    "ExecuteTime": {
     "start_time": "2023-05-01T21:51:18.642960Z",
     "end_time": "2023-05-01T21:51:18.810089Z"
    }
   },
   "outputs": [
    {
     "name": "stdout",
     "output_type": "stream",
     "text": [
      "\n",
      "Number of records in dataset after cleaning and pre-processing: 4908\n"
     ]
    }
   ],
   "source": [
    "# new_id = df_normalized.pop('id')\n",
    "# print(new_id)\n",
    "# df_normalized.insert(0, 'id', id)\n",
    "# df_normalized.head(20)\n",
    "print('\\nNumber of records in dataset after cleaning and pre-processing: {}'.format(df.shape[0]))\n",
    "df_normalized.to_csv('cleaned_data_stroke.csv', index=False)\n"
   ]
  },
  {
   "cell_type": "code",
   "execution_count": 98,
   "outputs": [
    {
     "name": "stdout",
     "output_type": "stream",
     "text": [
      "max_depth=2, min_samples_split=2\n",
      "Accuracy: 0.9460285132382892\n",
      "\n",
      "\n",
      "max_depth=2, min_samples_split=4\n",
      "Accuracy: 0.9460285132382892\n",
      "\n",
      "\n",
      "max_depth=2, min_samples_split=6\n",
      "Accuracy: 0.9460285132382892\n",
      "\n",
      "\n",
      "max_depth=2, min_samples_split=8\n",
      "Accuracy: 0.9460285132382892\n",
      "\n",
      "\n",
      "max_depth=2, min_samples_split=10\n",
      "Accuracy: 0.9460285132382892\n",
      "\n",
      "\n",
      "max_depth=4, min_samples_split=2\n",
      "Accuracy: 0.9419551934826884\n",
      "\n",
      "\n",
      "max_depth=4, min_samples_split=4\n",
      "Accuracy: 0.9419551934826884\n",
      "\n",
      "\n",
      "max_depth=4, min_samples_split=6\n",
      "Accuracy: 0.9419551934826884\n",
      "\n",
      "\n",
      "max_depth=4, min_samples_split=8\n",
      "Accuracy: 0.9419551934826884\n",
      "\n",
      "\n",
      "max_depth=4, min_samples_split=10\n",
      "Accuracy: 0.9419551934826884\n",
      "\n",
      "\n",
      "max_depth=6, min_samples_split=2\n",
      "Accuracy: 0.939918533604888\n",
      "\n",
      "\n",
      "max_depth=6, min_samples_split=4\n",
      "Accuracy: 0.9389002036659878\n",
      "\n",
      "\n",
      "max_depth=6, min_samples_split=6\n",
      "Accuracy: 0.939918533604888\n",
      "\n",
      "\n",
      "max_depth=6, min_samples_split=8\n",
      "Accuracy: 0.939918533604888\n",
      "\n",
      "\n",
      "max_depth=6, min_samples_split=10\n",
      "Accuracy: 0.939918533604888\n",
      "\n",
      "\n",
      "max_depth=8, min_samples_split=2\n",
      "Accuracy: 0.9409368635437881\n",
      "\n",
      "\n",
      "max_depth=8, min_samples_split=4\n",
      "Accuracy: 0.939918533604888\n",
      "\n",
      "\n",
      "max_depth=8, min_samples_split=6\n",
      "Accuracy: 0.9409368635437881\n",
      "\n",
      "\n",
      "max_depth=8, min_samples_split=8\n",
      "Accuracy: 0.9409368635437881\n",
      "\n",
      "\n",
      "max_depth=8, min_samples_split=10\n",
      "Accuracy: 0.939918533604888\n",
      "\n",
      "\n",
      "max_depth=10, min_samples_split=2\n",
      "Accuracy: 0.9338085539714868\n",
      "\n",
      "\n",
      "max_depth=10, min_samples_split=4\n",
      "Accuracy: 0.9338085539714868\n",
      "\n",
      "\n",
      "max_depth=10, min_samples_split=6\n",
      "Accuracy: 0.9378818737270875\n",
      "\n",
      "\n",
      "max_depth=10, min_samples_split=8\n",
      "Accuracy: 0.9389002036659878\n",
      "\n",
      "\n",
      "max_depth=10, min_samples_split=10\n",
      "Accuracy: 0.9389002036659878\n",
      "\n",
      "\n"
     ]
    }
   ],
   "source": [
    "import numpy as np\n",
    "import pandas as pd\n",
    "from sklearn.linear_model import LogisticRegression\n",
    "from sklearn.model_selection import train_test_split\n",
    "from sklearn.metrics import accuracy_score, precision_score, recall_score, f1_score\n",
    "\n",
    "# Load the data\n",
    "\n",
    "\n",
    "# Preprocess the data\n",
    "# ...\n",
    "\n",
    "# Split the data\n",
    "X_train, X_test, y_train, y_test = train_test_split(df_normalized.drop(\"stroke\", axis=1), df_normalized[\"stroke\"], test_size=0.2, random_state=42)\n",
    "\n",
    "# Create a logistic regression model\n",
    "lr_model = LogisticRegression()\n",
    "\n",
    "# Fit the model\n",
    "lr_model.fit(X_train, y_train)\n",
    "\n",
    "\n",
    "\n",
    "print(X_train.head())\n",
    "print(\"X_test: \\n\", X_test.head(20))\n",
    "# print(\"y_train: \\n\", y_train.head(20))\n",
    "# print(\"y_test: \\n\", y_test.head(20))\n",
    "# Predict using the model\n",
    "y_pred = lr_model.predict(X_test)\n",
    "\n",
    "# Evaluate the performance\n",
    "accuracy = accuracy_score(y_test, y_pred)\n",
    "precision = precision_score(y_test, y_pred)\n",
    "recall = recall_score(y_test, y_pred)\n",
    "f1 = f1_score(y_test, y_pred)\n",
    "\n",
    "print(\"Accuracy:\", accuracy)\n",
    "print(\"Precision:\", precision)\n",
    "print(\"Recall:\", recall)\n",
    "print(\"F1 score:\", f1)"
   ],
   "metadata": {
    "collapsed": false,
    "ExecuteTime": {
     "start_time": "2023-05-01T21:52:15.002912Z",
     "end_time": "2023-05-01T21:52:15.518871Z"
    }
   }
  },
  {
   "cell_type": "code",
   "execution_count": 96,
   "outputs": [],
   "source": [
    "from sklearn.metrics import mean_squared_error, r2_score\n",
    "import matplotlib.pyplot as plt\n",
    "\n",
    "# Calculate the mean squared error and coefficient of determination\n",
    "mse = mean_squared_error(y_test, y_pred)\n",
    "r2 = r2_score(y_test, y_pred)\n",
    "\n",
    "print(\"Mean Squared Error:\", mse)\n",
    "print(\"R-squared:\", r2)\n",
    "\n",
    "# Plot predicted vs. actual house prices\n",
    "plt.scatter(y_test, y_pred)\n",
    "plt.plot([y_test.min(), y_test.max()], [y_test.min(), y_test.max()], 'k--', lw=4)\n",
    "plt.xlabel('Actual')\n",
    "plt.ylabel('Predicted')\n",
    "plt.title('Predicted vs. Actual Getting Stroke')\n",
    "plt.show()"
   ],
   "metadata": {
    "collapsed": false,
    "ExecuteTime": {
     "start_time": "2023-05-01T21:51:19.451545Z",
     "end_time": "2023-05-01T21:51:19.454462Z"
    }
   }
  }
 ],
 "metadata": {
  "kernelspec": {
   "display_name": "ds_env1",
   "language": "python",
   "name": "python3"
  },
  "language_info": {
   "codemirror_mode": {
    "name": "ipython",
    "version": 3
   },
   "file_extension": ".py",
   "mimetype": "text/x-python",
   "name": "python",
   "nbconvert_exporter": "python",
   "pygments_lexer": "ipython3",
   "version": "3.10.4"
  },
  "orig_nbformat": 4
 },
 "nbformat": 4,
 "nbformat_minor": 2
}
